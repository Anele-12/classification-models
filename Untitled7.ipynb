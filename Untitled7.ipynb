{
  "nbformat": 4,
  "nbformat_minor": 0,
  "metadata": {
    "colab": {
      "provenance": []
    },
    "kernelspec": {
      "name": "python3",
      "display_name": "Python 3"
    },
    "language_info": {
      "name": "python"
    }
  },
  "cells": [
    {
      "cell_type": "code",
      "execution_count": 33,
      "metadata": {
        "colab": {
          "base_uri": "https://localhost:8080/"
        },
        "id": "-Mgrma3lpni9",
        "outputId": "45c2bfcb-6b35-473b-9ea3-f4e78fa88714"
      },
      "outputs": [
        {
          "output_type": "stream",
          "name": "stdout",
          "text": [
            "Drive already mounted at /content/drive; to attempt to forcibly remount, call drive.mount(\"/content/drive\", force_remount=True).\n"
          ]
        },
        {
          "output_type": "execute_result",
          "data": {
            "text/plain": [
              "['stores.csv',\n",
              " 'staffs.csv',\n",
              " 'categories.csv',\n",
              " 'orders.csv',\n",
              " 'stocks.csv',\n",
              " 'brands.csv',\n",
              " 'customers.csv',\n",
              " 'order_items.csv',\n",
              " 'products.csv']"
            ]
          },
          "metadata": {},
          "execution_count": 33
        }
      ],
      "source": [
        "from google.colab import drive\n",
        "import os\n",
        "\n",
        "# Mount Google Drive\n",
        "drive.mount('/content/drive')\n",
        "\n",
        "# Check files in your dataset folder\n",
        "dataset_path = '/content/drive/MyDrive/archive'\n",
        "os.listdir(dataset_path)\n"
      ]
    },
    {
      "cell_type": "markdown",
      "source": [
        "Importing\n"
      ],
      "metadata": {
        "id": "9c1qQa2L55Oa"
      }
    },
    {
      "cell_type": "code",
      "source": [
        "import pandas as pd\n",
        "import os\n",
        "from sklearn.model_selection import train_test_split\n",
        "from sklearn.preprocessing import LabelEncoder, StandardScaler\n",
        "from sklearn.linear_model import LogisticRegression\n",
        "from sklearn.ensemble import RandomForestClassifier\n",
        "from sklearn.metrics import classification_report, accuracy_score, confusion_matrix\n",
        "import matplotlib.pyplot as plt\n",
        "import seaborn as sns\n"
      ],
      "metadata": {
        "id": "IHVs5oxs0yMu"
      },
      "execution_count": 34,
      "outputs": []
    },
    {
      "cell_type": "markdown",
      "source": [
        "Load datasets"
      ],
      "metadata": {
        "id": "StB8nguo6MBQ"
      }
    },
    {
      "cell_type": "code",
      "source": [
        "\n",
        "# Dataset path\n",
        "dataset_path = '/content/drive/MyDrive/archive'\n",
        "\n",
        "# Load CSV files\n",
        "stores = pd.read_csv(os.path.join(dataset_path, 'stores.csv'))\n",
        "staffs = pd.read_csv(os.path.join(dataset_path, 'staffs.csv'))\n",
        "categories = pd.read_csv(os.path.join(dataset_path, 'categories.csv'))\n",
        "orders = pd.read_csv(os.path.join(dataset_path, 'orders.csv'))\n",
        "stocks = pd.read_csv(os.path.join(dataset_path, 'stocks.csv'))\n",
        "brands = pd.read_csv(os.path.join(dataset_path, 'brands.csv'))\n",
        "customers = pd.read_csv(os.path.join(dataset_path, 'customers.csv'))\n",
        "order_items = pd.read_csv(os.path.join(dataset_path, 'order_items.csv'))\n",
        "products = pd.read_csv(os.path.join(dataset_path, 'products.csv'))"
      ],
      "metadata": {
        "id": "Rc_GdYw_04zv"
      },
      "execution_count": 35,
      "outputs": []
    },
    {
      "cell_type": "markdown",
      "source": [
        "Merge tables"
      ],
      "metadata": {
        "id": "SsfL4eDh6ZbY"
      }
    },
    {
      "cell_type": "code",
      "source": [
        "\n",
        "df = order_items.merge(orders, on='order_id') \\\n",
        "    .merge(customers, on='customer_id') \\\n",
        "    .merge(products, on='product_id') \\\n",
        "    .merge(categories, on='category_id') \\\n",
        "    .merge(brands, on='brand_id') \\\n",
        "    .merge(stores, on='store_id')"
      ],
      "metadata": {
        "id": "f9WPdobS0_FM"
      },
      "execution_count": 36,
      "outputs": []
    },
    {
      "cell_type": "markdown",
      "source": [
        "Create target variable"
      ],
      "metadata": {
        "id": "GlIFR11g6kSP"
      }
    },
    {
      "cell_type": "code",
      "source": [
        "# Create target variable\n",
        "df['total_price'] = df['quantity'] * df['list_price_x']\n",
        "df['high_value_order'] = (df['total_price'] > 500).astype(int)\n"
      ],
      "metadata": {
        "id": "lmauWOMy1NmU"
      },
      "execution_count": 37,
      "outputs": []
    },
    {
      "cell_type": "markdown",
      "source": [
        " Drop irrelevant or ID columns"
      ],
      "metadata": {
        "id": "o4tRipAV60EN"
      }
    },
    {
      "cell_type": "code",
      "source": [
        "# Drop irrelevant or ID columns\n",
        "drop_cols = [\n",
        "    'order_id', 'customer_id', 'product_id', 'store_id',\n",
        "    'order_status', 'first_name', 'last_name', 'email', 'phone',\n",
        "    'street', 'city', 'state', 'zip_code', 'order_date'\n",
        "]\n",
        "df = df.drop(columns=drop_cols, errors='ignore')\n",
        "\n"
      ],
      "metadata": {
        "id": "MA1J81R81X_5"
      },
      "execution_count": 38,
      "outputs": []
    },
    {
      "cell_type": "markdown",
      "source": [
        "Encode categorical columns"
      ],
      "metadata": {
        "id": "cpYLTOqA7AHE"
      }
    },
    {
      "cell_type": "code",
      "source": [
        "# Encode categorical columns\n",
        "for col in df.select_dtypes(include=['object']).columns:\n",
        "    df[col] = LabelEncoder().fit_transform(df[col])"
      ],
      "metadata": {
        "id": "eXeGAQ3N1aXz"
      },
      "execution_count": 39,
      "outputs": []
    },
    {
      "cell_type": "markdown",
      "source": [
        "Features and target"
      ],
      "metadata": {
        "id": "QTumz1X27KEX"
      }
    },
    {
      "cell_type": "code",
      "source": [
        "# Features and target\n",
        "X = df.drop(columns=['high_value_order'])\n",
        "y = df['high_value_order']\n"
      ],
      "metadata": {
        "id": "INEc5YwZ1rIP"
      },
      "execution_count": 40,
      "outputs": []
    },
    {
      "cell_type": "markdown",
      "source": [
        "Split dataset"
      ],
      "metadata": {
        "id": "7Kxom4Hc7Z0U"
      }
    },
    {
      "cell_type": "code",
      "source": [
        "# Split dataset\n",
        "X_train, X_test, y_train, y_test = train_test_split(X, y, test_size=0.2, random_state=42)"
      ],
      "metadata": {
        "id": "SQPLwN491vAx"
      },
      "execution_count": 41,
      "outputs": []
    },
    {
      "cell_type": "markdown",
      "source": [
        "Scale features for logistic regression"
      ],
      "metadata": {
        "id": "6HlvyZpg7ivB"
      }
    },
    {
      "cell_type": "code",
      "source": [
        "# Scale features for logistic regression\n",
        "scaler = StandardScaler()\n",
        "X_train_scaled = scaler.fit_transform(X_train)\n",
        "X_test_scaled = scaler.transform(X_test)\n"
      ],
      "metadata": {
        "id": "gU0_OOgD4e2W"
      },
      "execution_count": 42,
      "outputs": []
    },
    {
      "cell_type": "markdown",
      "source": [
        "Logistic Regression with scaled features"
      ],
      "metadata": {
        "id": "PXLQoGs57077"
      }
    },
    {
      "cell_type": "code",
      "source": [
        "# Logistic Regression with scaled features\n",
        "lr = LogisticRegression(max_iter=2000)\n",
        "lr.fit(X_train_scaled, y_train)\n",
        "y_pred_lr = lr.predict(X_test_scaled)\n",
        "acc_lr = accuracy_score(y_test, y_pred_lr)\n"
      ],
      "metadata": {
        "id": "B1_B5RBs1ybD"
      },
      "execution_count": 43,
      "outputs": []
    },
    {
      "cell_type": "markdown",
      "source": [
        "Scale features"
      ],
      "metadata": {
        "id": "IinU4Piy99AY"
      }
    },
    {
      "cell_type": "code",
      "source": [
        "scaler = StandardScaler()\n",
        "X_train_scaled = scaler.fit_transform(X_train)\n",
        "X_test_scaled = scaler.transform(X_test)"
      ],
      "metadata": {
        "id": "da1I0nBE-HLf"
      },
      "execution_count": 46,
      "outputs": []
    },
    {
      "cell_type": "markdown",
      "source": [
        "Random Forest with scaled features"
      ],
      "metadata": {
        "id": "LeXwHvDc8G5o"
      }
    },
    {
      "cell_type": "code",
      "source": [
        "rf = RandomForestClassifier(n_estimators=100, random_state=42)\n",
        "rf.fit(X_train_scaled, y_train)\n",
        "y_pred_rf = rf.predict(X_test_scaled)\n",
        "acc_rf = accuracy_score(y_test, y_pred_rf)"
      ],
      "metadata": {
        "id": "if8GeCK013gV"
      },
      "execution_count": 47,
      "outputs": []
    },
    {
      "cell_type": "markdown",
      "source": [
        "Print classification reports"
      ],
      "metadata": {
        "id": "EyF3wOzG8RLj"
      }
    },
    {
      "cell_type": "code",
      "source": [
        "# Print classification reports\n",
        "print(\"=== Logistic Regression ===\")\n",
        "print(f\"Accuracy: {acc_lr:.4f}\")\n",
        "print(classification_report(y_test, y_pred_lr))\n",
        "\n",
        "print(\"\\n=== Random Forest ===\")\n",
        "print(f\"Accuracy: {acc_rf:.4f}\")\n",
        "print(classification_report(y_test, y_pred_rf))"
      ],
      "metadata": {
        "colab": {
          "base_uri": "https://localhost:8080/"
        },
        "collapsed": true,
        "id": "ovZNlhry25xQ",
        "outputId": "c44a7598-a3db-4383-bd76-c6bb2f0a9a4e"
      },
      "execution_count": 48,
      "outputs": [
        {
          "output_type": "stream",
          "name": "stdout",
          "text": [
            "=== Logistic Regression ===\n",
            "Accuracy: 0.9884\n",
            "              precision    recall  f1-score   support\n",
            "\n",
            "           0       0.97      0.98      0.97       213\n",
            "           1       0.99      0.99      0.99       732\n",
            "\n",
            "    accuracy                           0.99       945\n",
            "   macro avg       0.98      0.99      0.98       945\n",
            "weighted avg       0.99      0.99      0.99       945\n",
            "\n",
            "\n",
            "=== Random Forest ===\n",
            "Accuracy: 1.0000\n",
            "              precision    recall  f1-score   support\n",
            "\n",
            "           0       1.00      1.00      1.00       213\n",
            "           1       1.00      1.00      1.00       732\n",
            "\n",
            "    accuracy                           1.00       945\n",
            "   macro avg       1.00      1.00      1.00       945\n",
            "weighted avg       1.00      1.00      1.00       945\n",
            "\n"
          ]
        }
      ]
    },
    {
      "cell_type": "markdown",
      "source": [
        " Plot confusion matrices"
      ],
      "metadata": {
        "id": "WEUikR5k8sP4"
      }
    },
    {
      "cell_type": "code",
      "source": [
        "# Plot confusion matrices\n",
        "fig, axes = plt.subplots(1, 2, figsize=(14, 6))\n",
        "\n",
        "cm_lr = confusion_matrix(y_test, y_pred_lr)\n",
        "cm_rf = confusion_matrix(y_test, y_pred_rf)\n",
        "\n",
        "sns.heatmap(cm_lr, annot=True, fmt='d', cmap='Blues', ax=axes[0])\n",
        "axes[0].set_title(\"Logistic Regression Confusion Matrix\")\n",
        "axes[0].set_xlabel(\"Predicted Label\")\n",
        "axes[0].set_ylabel(\"True Label\")\n",
        "\n",
        "sns.heatmap(cm_rf, annot=True, fmt='d', cmap='Greens', ax=axes[1])\n",
        "axes[1].set_title(\"Random Forest Confusion Matrix\")\n",
        "axes[1].set_xlabel(\"Predicted Label\")\n",
        "axes[1].set_ylabel(\"True Label\")\n",
        "\n",
        "plt.tight_layout()\n",
        "plt.show()"
      ],
      "metadata": {
        "colab": {
          "base_uri": "https://localhost:8080/",
          "height": 501
        },
        "id": "qZ240PnB3B8y",
        "outputId": "cdecb94a-f514-4bbd-d393-65213532cda0"
      },
      "execution_count": 50,
      "outputs": [
        {
          "output_type": "display_data",
          "data": {
            "text/plain": [
              "<Figure size 1400x600 with 4 Axes>"
            ],
            "image/png": "[encoded data removed]"
          },
          "metadata": {}
        }
      ]
    },
    {
      "cell_type": "markdown",
      "source": [
        "Accuracy comparison bar chart"
      ],
      "metadata": {
        "id": "IhB-N4VC80KC"
      }
    },
    {
      "cell_type": "code",
      "source": [
        "# Accuracy comparison bar chart\n",
        "plt.figure(figsize=(6, 4))\n",
        "plt.bar([\"Logistic Regression\", \"Random Forest\"], [acc_lr, acc_rf], color=[\"blue\", \"green\"])\n",
        "plt.title(\"Model Accuracy Comparison\")\n",
        "plt.ylabel(\"Accuracy\")\n",
        "plt.ylim(0, 1.05)\n",
        "plt.show()\n"
      ],
      "metadata": {
        "colab": {
          "base_uri": "https://localhost:8080/",
          "height": 391
        },
        "collapsed": true,
        "id": "sk_Mi9oA3MI0",
        "outputId": "d3921f6d-606c-4f01-b5ac-9a406cb180f6"
      },
      "execution_count": 49,
      "outputs": [
        {
          "output_type": "display_data",
          "data": {
            "text/plain": [
              "<Figure size 600x400 with 1 Axes>"
            ],
            "image/png": "[encoded data removed]"
          },
          "metadata": {}
        }
      ]
    }
  ]
}